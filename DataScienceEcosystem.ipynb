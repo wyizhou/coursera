{
 "cells": [
  {
   "cell_type": "markdown",
   "id": "ea36bc4f-6398-46b0-b6a0-22c991a00590",
   "metadata": {},
   "source": [
    "#  Data Science Tools and Ecosystem\n",
    "In this notebook, Data Science Tools and Ecosystem are summarized."
   ]
  },
  {
   "cell_type": "markdown",
   "id": "ad967cc7-2104-4f67-8a1d-198a698259f6",
   "metadata": {},
   "source": [
    "## Author\n",
    "Lucas"
   ]
  },
  {
   "cell_type": "markdown",
   "id": "00d74929-7d37-4312-93dc-288e244bf37b",
   "metadata": {},
   "source": [
    "some of the key takeaways from the course:\n",
    "- I learned about the relationship between IPython, Jupyter, and Jupyter Notebook, as well as the differences between Jupyter Notebook, Jupyterlite, and Jupyter Lab.\n",
    "- I learned how to create a new notebook in Jupyter Notebook.\n",
    "- I learned how to share a notebook with others and export it in different formats.\n",
    "- I learned how to run code and Markdown in a notebook.\n",
    "- I learned how to properly close a notebook by shutting down the kernel."
   ]
  },
  {
   "cell_type": "markdown",
   "id": "9f7b0036-e8df-4549-b10a-597c9e4b9a7a",
   "metadata": {},
   "source": [
    "Some of the popular languages that Data Scientists use are:\n",
    "1. Julia\n",
    "2. R\n",
    "3. Python"
   ]
  },
  {
   "cell_type": "markdown",
   "id": "abbbac22-fd7a-4cd0-9f84-96e094bc1e40",
   "metadata": {},
   "source": [
    "Some of the commonly used libraries used by Data Scientists include:\n",
    "\n",
    "1. Pandas(Python)\n",
    "2. Numpy(Python)\n",
    "3. ggplot(R)\n",
    "4. matplotlib(Python)"
   ]
  },
  {
   "cell_type": "markdown",
   "id": "95da4250-e35b-48f5-97d5-16a1308c237e",
   "metadata": {},
   "source": [
    "| Data Science Tools |\n",
    "| --- |\n",
    "| Jupyter notebook |\n",
    "| Torch |\n",
    "| Apache SystemML |\n",
    "| Tensorflow |\n"
   ]
  },
  {
   "cell_type": "markdown",
   "id": "5d35a9da-50f0-44e9-a6e3-f2c6454de292",
   "metadata": {},
   "source": [
    "### Below are a few examples of evaluating arithmetic expressions in Python."
   ]
  },
  {
   "cell_type": "code",
   "execution_count": 2,
   "id": "3cae1d94-35b1-4e89-a146-628493648435",
   "metadata": {},
   "outputs": [
    {
     "data": {
      "text/plain": [
       "17"
      ]
     },
     "execution_count": 2,
     "metadata": {},
     "output_type": "execute_result"
    }
   ],
   "source": [
    "# This a simple arithmetic expression to mutiply then add integers.\n",
    "(3 * 4) + 5"
   ]
  },
  {
   "cell_type": "code",
   "execution_count": 3,
   "id": "33d5cbb0-25ae-431f-96c5-312999b91648",
   "metadata": {},
   "outputs": [
    {
     "data": {
      "text/plain": [
       "3.3333333333333335"
      ]
     },
     "execution_count": 3,
     "metadata": {},
     "output_type": "execute_result"
    }
   ],
   "source": [
    "# This will convert 200 minutes to hours by diving by 60.\n",
    "200 / 60"
   ]
  },
  {
   "cell_type": "code",
   "execution_count": null,
   "id": "54e8582b-8b2e-4f41-b390-8e4180bb2996",
   "metadata": {},
   "outputs": [],
   "source": []
  }
 ],
 "metadata": {
  "kernelspec": {
   "display_name": "Python 3 (ipykernel)",
   "language": "python",
   "name": "python3"
  },
  "language_info": {
   "codemirror_mode": {
    "name": "ipython",
    "version": 3
   },
   "file_extension": ".py",
   "mimetype": "text/x-python",
   "name": "python",
   "nbconvert_exporter": "python",
   "pygments_lexer": "ipython3",
   "version": "3.12.7"
  }
 },
 "nbformat": 4,
 "nbformat_minor": 5
}
